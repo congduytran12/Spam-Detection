{
 "cells": [
  {
   "attachments": {},
   "cell_type": "markdown",
   "metadata": {},
   "source": [
    "### RoBERTa based Spam Message Detection"
   ]
  },
  {
   "cell_type": "code",
   "execution_count": 1,
   "metadata": {},
   "outputs": [],
   "source": [
    "from detector import SpamMessageDetector"
   ]
  },
  {
   "attachments": {},
   "cell_type": "markdown",
   "metadata": {},
   "source": [
    "#### Training roberta-spam model: to start training, set TRAIN=True, you may skip for Demo"
   ]
  },
  {
   "cell_type": "code",
   "execution_count": 2,
   "metadata": {},
   "outputs": [],
   "source": [
    "TRAIN = False\n",
    "if TRAIN:\n",
    "    spam_detector = SpamMessageDetector(\"roberta-base\", max_length=512, seed=0)\n",
    "    train_data_path = 'spam_message_train.csv'\n",
    "    val_data_path = 'spam_message_val.csv'\n",
    "    spam_detector.train(train_data_path, val_data_path, num_epochs=10, batch_size=32, learning_rate=2e-5)\n",
    "    model_path = 'roberta-spam'\n",
    "    spam_detector.save_model(model_path)"
   ]
  },
  {
   "attachments": {},
   "cell_type": "markdown",
   "metadata": {},
   "source": [
    "#### Training Results\n",
    "\n",
    "Loss    |  Accuracy      |  Precision / Recall            \n",
    ":-------------------------:|:-------------------------:|:-------------------------: \n",
    "![](plots/train_validation_loss.jpg \"Train / Validation Loss\") Train / Validation | ![](plots/validation_accuracy.jpg \"Validation Accuracy\") Validation | ![](plots/validation_precision_recall.jpg \"Validation Precision / Recall\")  Validation\n",
    "\n",
    "\n",
    "\n"
   ]
  },
  {
   "attachments": {},
   "cell_type": "markdown",
   "metadata": {},
   "source": [
    "#### Evaluating the roberta-spam model"
   ]
  },
  {
   "cell_type": "code",
   "execution_count": 3,
   "metadata": {},
   "outputs": [
    {
     "data": {
      "application/vnd.jupyter.widget-view+json": {
       "model_id": "04d742759ee645d8ab5a40b52e79f739",
       "version_major": 2,
       "version_minor": 0
      },
      "text/plain": [
       "tokenizer_config.json:   0%|          | 0.00/1.31k [00:00<?, ?B/s]"
      ]
     },
     "metadata": {},
     "output_type": "display_data"
    },
    {
     "name": "stderr",
     "output_type": "stream",
     "text": [
      "c:\\Users\\Admin\\AppData\\Local\\Programs\\Python\\Python312\\Lib\\site-packages\\huggingface_hub\\file_download.py:157: UserWarning: `huggingface_hub` cache-system uses symlinks by default to efficiently store duplicated files but your machine does not support them in C:\\Users\\Admin\\.cache\\huggingface\\hub\\models--mshenoda--roberta-spam. Caching files will still work but in a degraded version that might require more space on your disk. This warning can be disabled by setting the `HF_HUB_DISABLE_SYMLINKS_WARNING` environment variable. For more details, see https://huggingface.co/docs/huggingface_hub/how-to-cache#limitations.\n",
      "To support symlinks on Windows, you either need to activate Developer Mode or to run Python as an administrator. In order to see activate developer mode, see this article: https://docs.microsoft.com/en-us/windows/apps/get-started/enable-your-device-for-development\n",
      "  warnings.warn(message)\n"
     ]
    },
    {
     "data": {
      "application/vnd.jupyter.widget-view+json": {
       "model_id": "bd339c7e8c3c4b89b796aff68ced6ec8",
       "version_major": 2,
       "version_minor": 0
      },
      "text/plain": [
       "vocab.json:   0%|          | 0.00/999k [00:00<?, ?B/s]"
      ]
     },
     "metadata": {},
     "output_type": "display_data"
    },
    {
     "data": {
      "application/vnd.jupyter.widget-view+json": {
       "model_id": "3772637fd33741489b4b1078d85e4127",
       "version_major": 2,
       "version_minor": 0
      },
      "text/plain": [
       "merges.txt:   0%|          | 0.00/456k [00:00<?, ?B/s]"
      ]
     },
     "metadata": {},
     "output_type": "display_data"
    },
    {
     "data": {
      "application/vnd.jupyter.widget-view+json": {
       "model_id": "a08650cb7379459dbf606547ed34acdb",
       "version_major": 2,
       "version_minor": 0
      },
      "text/plain": [
       "special_tokens_map.json:   0%|          | 0.00/957 [00:00<?, ?B/s]"
      ]
     },
     "metadata": {},
     "output_type": "display_data"
    },
    {
     "data": {
      "application/vnd.jupyter.widget-view+json": {
       "model_id": "2dbcf26727024d2397e488783570643a",
       "version_major": 2,
       "version_minor": 0
      },
      "text/plain": [
       "config.json:   0%|          | 0.00/735 [00:00<?, ?B/s]"
      ]
     },
     "metadata": {},
     "output_type": "display_data"
    },
    {
     "data": {
      "application/vnd.jupyter.widget-view+json": {
       "model_id": "c4d7c781f82f49788926d23c205fefe2",
       "version_major": 2,
       "version_minor": 0
      },
      "text/plain": [
       "model.safetensors:   0%|          | 0.00/499M [00:00<?, ?B/s]"
      ]
     },
     "metadata": {},
     "output_type": "display_data"
    }
   ],
   "source": [
    "spam_detector = SpamMessageDetector(\"mshenoda/roberta-spam\")\n",
    "spam_detector.evaluate(\"data/spam_message_test.csv\")"
   ]
  },
  {
   "attachments": {},
   "cell_type": "markdown",
   "metadata": {},
   "source": [
    "#### Testing individual example messages"
   ]
  },
  {
   "cell_type": "code",
   "execution_count": null,
   "metadata": {},
   "outputs": [
    {
     "name": "stdout",
     "output_type": "stream",
     "text": [
      "\n",
      "Example 1\n",
      "Input Message:  Hey so this sat are we going for the intro pilates only? Or the kickboxing too?\n",
      "Detected Spam?:  False\n",
      "\n",
      "Example 2\n",
      "Input Message:  U have a secret admirer. REVEAL who thinks U R So special. Call 09065174042. To opt out Reply REVEAL STOP. 1.50 per msg recd.\n",
      "Detected Spam:  True\n",
      "\n",
      "Example 3\n",
      "Input Message:  Dude im no longer a pisces. Im an aquarius now.\n",
      "Detected Spam?:  False\n",
      "\n",
      "Example 4 \n",
      "Input Message:  Great News! Call FREEFONE 08006344447 to claim your guaranteed $1000 CASH or $2000 gift. Speak to a live operator NOW!\n",
      "Detected Spam?:  True\n"
     ]
    }
   ],
   "source": [
    "message1 = \"Hey so this sat are we going for the intro pilates only? Or the kickboxing too?\"\n",
    "detection = spam_detector.detect(message1)\n",
    "\n",
    "print(\"\\nExample 1\")\n",
    "print(\"Input Message: \", message1)\n",
    "print(\"Detected Spam?: \", bool(detection))\n",
    "\n",
    "message2 = \"U have a secret admirer. REVEAL who thinks U R So special. Call 09065174042. To opt out Reply REVEAL STOP. 1.50 per msg recd.\"\n",
    "detection = spam_detector.detect(message2)\n",
    "\n",
    "print(\"\\nExample 2\")\n",
    "print(\"Input Message: \", message2)\n",
    "print(\"Detected Spam: \", bool(detection))\n",
    "\n",
    "message3 = \"Dude im no longer a pisces. Im an aquarius now.\"\n",
    "detection = spam_detector.detect(message3)\n",
    "\n",
    "print(\"\\nExample 3\")\n",
    "print(\"Input Message: \", message3)\n",
    "print(\"Detected Spam?: \", bool(detection))\n",
    "\n",
    "message4 = \"Great News! Call FREEFONE 08006344447 to claim your guaranteed $1000 CASH or $2000 gift. Speak to a live operator NOW!\"\n",
    "detection = spam_detector.detect(message4)\n",
    "\n",
    "print(\"\\nExample 4 \")\n",
    "print(\"Input Message: \", message4)\n",
    "print(\"Detected Spam?: \", bool(detection))"
   ]
  },
  {
   "attachments": {},
   "cell_type": "markdown",
   "metadata": {},
   "source": [
    "#### Batch Processing is supported for processing multiple messages at once"
   ]
  },
  {
   "cell_type": "code",
   "execution_count": null,
   "metadata": {},
   "outputs": [],
   "source": [
    "messages = [message1, message2, message3, message4]"
   ]
  },
  {
   "cell_type": "code",
   "execution_count": null,
   "metadata": {},
   "outputs": [
    {
     "name": "stdout",
     "output_type": "stream",
     "text": [
      "\n",
      "Example  1\n",
      "Input Message:  Hey so this sat are we going for the intro pilates only? Or the kickboxing too?\n",
      "detected spam:  False\n",
      "\n",
      "Example  2\n",
      "Input Message:  U have a secret admirer. REVEAL who thinks U R So special. Call 09065174042. To opt out Reply REVEAL STOP. 1.50 per msg recd.\n",
      "detected spam:  True\n",
      "\n",
      "Example  3\n",
      "Input Message:  Dude im no longer a pisces. Im an aquarius now.\n",
      "detected spam:  False\n",
      "\n",
      "Example  4\n",
      "Input Message:  Great News! Call FREEFONE 08006344447 to claim your guaranteed $1000 CASH or $2000 gift. Speak to a live operator NOW!\n",
      "detected spam:  True\n"
     ]
    }
   ],
   "source": [
    "\n",
    "detections = spam_detector.detect(messages)\n",
    "for i, message in enumerate(messages):\n",
    "    print(\"\\nExample \", f\"{i+1}\")\n",
    "    print(\"Input Message: \", message)\n",
    "    print(\"detected spam: \", bool(detections[i]))\n"
   ]
  }
 ],
 "metadata": {
  "kernelspec": {
   "display_name": "Python 3",
   "language": "python",
   "name": "python3"
  },
  "language_info": {
   "codemirror_mode": {
    "name": "ipython",
    "version": 3
   },
   "file_extension": ".py",
   "mimetype": "text/x-python",
   "name": "python",
   "nbconvert_exporter": "python",
   "pygments_lexer": "ipython3",
   "version": "3.12.2"
  },
  "orig_nbformat": 4
 },
 "nbformat": 4,
 "nbformat_minor": 2
}
