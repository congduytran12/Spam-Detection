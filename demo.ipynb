{
  "cells": [
    {
      "cell_type": "markdown",
      "metadata": {
        "id": "CJ9eFNtZ5a5j"
      },
      "source": [
        "### RoBERTa based Spam Message Detection"
      ]
    },
    {
      "cell_type": "code",
      "execution_count": 1,
      "metadata": {
        "colab": {
          "base_uri": "https://localhost:8080/"
        },
        "id": "Qh9t4kAqRsfe",
        "outputId": "66ca40bc-82cf-4a69-d7da-a006719b7a5e"
      },
      "outputs": [
        {
          "name": "stdout",
          "output_type": "stream",
          "text": [
            "Mounted at /content/gdrive\n"
          ]
        }
      ],
      "source": [
        "from google.colab import drive\n",
        "drive.mount('/content/gdrive')"
      ]
    },
    {
      "cell_type": "code",
      "execution_count": 2,
      "metadata": {
        "colab": {
          "base_uri": "https://localhost:8080/"
        },
        "id": "lWJa_Mq1RuKZ",
        "outputId": "156f27eb-0141-4b1d-e735-2f2ffc47684f"
      },
      "outputs": [
        {
          "name": "stdout",
          "output_type": "stream",
          "text": [
            "\n",
            "Colab: making sure  /content/gdrive/My Drive/Colab Notebooks/Spam-Detection  exists.\n",
            "\n",
            "Colab: Changing directory to  /content/gdrive/My Drive/Colab Notebooks/Spam-Detection\n",
            "/content/gdrive/My Drive/Colab Notebooks/Spam-Detection\n"
          ]
        }
      ],
      "source": [
        "import os\n",
        "drive_root = \"/content/gdrive/My Drive/Colab Notebooks/Spam-Detection\"\n",
        "create_drive_root = True\n",
        "if create_drive_root:\n",
        "    print(\"\\nColab: making sure \", drive_root, \" exists.\")\n",
        "    os.makedirs(drive_root, exist_ok=True)\n",
        "print(\"\\nColab: Changing directory to \", drive_root)\n",
        "%cd $drive_root"
      ]
    },
    {
      "cell_type": "code",
      "execution_count": 3,
      "metadata": {
        "id": "9Skk82zF5a5l"
      },
      "outputs": [],
      "source": [
        "from detector import SpamMessageDetector"
      ]
    },
    {
      "cell_type": "markdown",
      "metadata": {
        "id": "r1jd6ZTp5a5m"
      },
      "source": [
        "#### Training roberta-spam model: to start training, set TRAIN=True, you may skip for Demo"
      ]
    },
    {
      "cell_type": "code",
      "execution_count": 4,
      "metadata": {
        "id": "jw9DvqHW5a5n"
      },
      "outputs": [],
      "source": [
        "TRAIN = False\n",
        "if TRAIN:\n",
        "    spam_detector = SpamMessageDetector(\"roberta-base\", max_length=128, seed=0)\n",
        "    train_data_path = 'data/spam_message_train.csv'\n",
        "    val_data_path = 'data/spam_message_val.csv'\n",
        "    spam_detector.train(train_data_path, val_data_path, num_epochs=10, batch_size=16, learning_rate=2e-5)\n",
        "    model_path = 'roberta-spam'\n",
        "    spam_detector.save_model(model_path)"
      ]
    },
    {
      "cell_type": "markdown",
      "metadata": {
        "id": "EOBg8JHk5a5n"
      },
      "source": [
        "#### Evaluating the roberta-spam model"
      ]
    },
    {
      "cell_type": "code",
      "execution_count": 5,
      "metadata": {
        "colab": {
          "base_uri": "https://localhost:8080/",
          "height": 541
        },
        "id": "5xvVKvuN5a5o",
        "outputId": "fef2b929-65eb-4aaf-a79c-2148e10b651f"
      },
      "outputs": [
        {
          "name": "stdout",
          "output_type": "stream",
          "text": [
            "Accuracy: 0.9902\n",
            "Precision: 0.9963\n",
            "Recall: 0.9939\n",
            "F1 Score: 0.9951\n"
          ]
        },
        {
          "data": {
            "image/png": "[encoded data removed]",
            "text/plain": [
              "<Figure size 640x480 with 2 Axes>"
            ]
          },
          "metadata": {},
          "output_type": "display_data"
        }
      ],
      "source": [
        "spam_detector = SpamMessageDetector(\"roberta-spam\")\n",
        "spam_detector.evaluate(\"data/spam_message_test.csv\")"
      ]
    },
    {
      "cell_type": "markdown",
      "metadata": {
        "id": "Rta1i3Uv5a5o"
      },
      "source": [
        "#### Testing individual example messages"
      ]
    },
    {
      "cell_type": "code",
      "execution_count": 37,
      "metadata": {
        "id": "fgtCL9zD5a5p"
      },
      "outputs": [],
      "source": [
        "message1= \"Hi Grandpa, it’s me – I’ve been in a car accident, and my parents aren’t around. Can you please send me money so I can get home? You can wire funds to me here:facebook.com\"\n",
        "message2= \"Your 2FA settings are not up to date. To avoid account suspension, please click the following link to update your settings: facebook.com\"\n",
        "message3= \"Congratulations! You have all been selected to receive a free gift card worth $1000. Click on this link facebook.com to claim your reward now. Limited time offer, so act fast! Don't miss out on this amazing opportunity.\"\n",
        "message4= \"I have checked that your office hours are scheduled on Wednesdays from 2 to 5 PM. If this is correct, please let me know if I can come.\"\n",
        "message5= \"I am a student in your History 1B class, Section 1. I faced some difficulties with selecting a topic for my research paper, and I would appreciate it if I could discuss it with you during your office hours.\"\n",
        "message6= \"We’ve detected suspicious activity on your Google account. Follow this link to reset your password: facebook.com\"\n",
        "message7= \"You received 3.41 Bitcoin (BTC). To confirm your transaction, visit facebook.com NOW\""
      ]
    },
    {
      "cell_type": "markdown",
      "metadata": {
        "id": "AJavcvCF5a5p"
      },
      "source": [
        "#### Batch Processing is supported for processing multiple messages at once"
      ]
    },
    {
      "cell_type": "code",
      "execution_count": 38,
      "metadata": {
        "id": "mfFbLsL25a5p"
      },
      "outputs": [],
      "source": [
        "messages = [message1, message2, message3, message4, message5, message6, message7]"
      ]
    },
    {
      "cell_type": "code",
      "execution_count": 39,
      "metadata": {
        "colab": {
          "base_uri": "https://localhost:8080/"
        },
        "id": "dqiKHWuD5a5q",
        "outputId": "26d6e329-1fc5-42ec-a62e-2ef3db1fbfe4"
      },
      "outputs": [
        {
          "name": "stdout",
          "output_type": "stream",
          "text": [
            "\n",
            "Example  1\n",
            "Input Message:  Hi Grandpa, it’s me – I’ve been in a car accident, and my parents aren’t around. Can you please send me money so I can get home? You can wire funds to me here:facebook.com\n",
            "Detected Spam:  True\n",
            "\n",
            "Example  2\n",
            "Input Message:  Your 2FA settings are not up to date. To avoid account suspension, please click the following link to update your settings: facebook.com\n",
            "Detected Spam:  True\n",
            "\n",
            "Example  3\n",
            "Input Message:  Congratulations! You have all been selected to receive a free gift card worth $1000. Click on this link facebook.com to claim your reward now. Limited time offer, so act fast! Don't miss out on this amazing opportunity.\n",
            "Detected Spam:  True\n",
            "\n",
            "Example  4\n",
            "Input Message:  I have checked that your office hours are scheduled on Wednesdays from 2 to 5 PM. If this is correct, please let me know if I can come.\n",
            "Detected Spam:  False\n",
            "\n",
            "Example  5\n",
            "Input Message:  I am a student in your History 1B class, Section 1. I faced some difficulties with selecting a topic for my research paper, and I would appreciate it if I could discuss it with you during your office hours.\n",
            "Detected Spam:  False\n",
            "\n",
            "Example  6\n",
            "Input Message:  We’ve detected suspicious activity on your Google account. Follow this link to reset your password: facebook.com\n",
            "Detected Spam:  True\n",
            "\n",
            "Example  7\n",
            "Input Message:  You received 3.41 Bitcoin (BTC). To confirm your transaction, visit facebook.com NOW\n",
            "Detected Spam:  True\n"
          ]
        }
      ],
      "source": [
        "detections = spam_detector.detect(messages)\n",
        "for i, message in enumerate(messages):\n",
        "    print(\"\\nExample \", f\"{i+1}\")\n",
        "    print(\"Input Message: \", message)\n",
        "    print(\"Detected Spam: \", bool(detections[i]))\n"
      ]
    },
    {
      "cell_type": "code",
      "execution_count": null,
      "metadata": {
        "id": "CMymJpWS9J9h"
      },
      "outputs": [],
      "source": []
    }
  ],
  "metadata": {
    "accelerator": "GPU",
    "colab": {
      "gpuType": "T4",
      "provenance": []
    },
    "kernelspec": {
      "display_name": "Python 3",
      "name": "python3"
    },
    "language_info": {
      "codemirror_mode": {
        "name": "ipython",
        "version": 3
      },
      "file_extension": ".py",
      "mimetype": "text/x-python",
      "name": "python",
      "nbconvert_exporter": "python",
      "pygments_lexer": "ipython3",
      "version": "3.12.2"
    },
    "orig_nbformat": 4
  },
  "nbformat": 4,
  "nbformat_minor": 0
}
